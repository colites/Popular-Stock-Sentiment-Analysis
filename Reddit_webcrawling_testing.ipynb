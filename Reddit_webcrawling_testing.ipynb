{
 "cells": [
  {
   "cell_type": "code",
   "execution_count": 1,
   "id": "d9fefe5c-5dcb-4d0f-af46-1d8ab5154124",
   "metadata": {
    "tags": []
   },
   "outputs": [],
   "source": [
    "import csv\n",
    "import praw\n",
    "from psaw import PushshiftAPI\n",
    "\n",
    "api = PushshiftAPI()\n",
    "\n",
    "## Function to search for indicated amount of WSB submissions on reddit\n",
    "## returns a list of titles, a list of urls, and a list of authors\n",
    "def Get_Submissions_rWSB(size):\n",
    "    title_list = []\n",
    "    url_list = []\n",
    "    author_list = []\n",
    "    submissions = api.search_submissions(\n",
    "                                subreddit='wallstreetbets',\n",
    "                                filter=['title','url','author'],\n",
    "                                limit= size\n",
    "                                )\n",
    "    for submission in submissions:\n",
    "        title= submission.title\n",
    "        url = submission.url\n",
    "        author = submission.author\n",
    "        \n",
    "        title_list.append(title)\n",
    "        url_list.append(url)\n",
    "        author_list.append(author)\n",
    "\n",
    "    return title_list, url_list, author_list\n",
    "\n",
    "## Function to search for indicated amount of r/investing submissions on reddit\n",
    "## returns a list of titles, a list of urls, and a list of authors\n",
    "def Get_Submissions_rInvesting(size):\n",
    "    title_list = []\n",
    "    url_list = []\n",
    "    author_list = []\n",
    "    submissions = api.search_submissions(\n",
    "                                subreddit='investing',\n",
    "                                filter=['title','url','author'],\n",
    "                                limit = size\n",
    "                                )\n",
    "    for submission in submissions:\n",
    "        title= submission.title\n",
    "        url = submission.url\n",
    "        author = submission.author\n",
    "        \n",
    "        title_list.append(title)\n",
    "        url_list.append(url)\n",
    "        author_list.append(author)\n",
    "\n",
    "    return title_list, url_list, author_list\n"
   ]
  },
  {
   "cell_type": "code",
   "execution_count": 2,
   "id": "1098a0d1-e26d-491f-94e0-cf5e3a00448e",
   "metadata": {},
   "outputs": [],
   "source": [
    "## Function to search for indicated amount of submissions on indicated subreddit\n",
    "## returns a list of titles, a list of urls, and a list of authors\n",
    "def Get_Submissions_Any(size, subreddit):\n",
    "    title_list = []\n",
    "    url_list = []\n",
    "    author_list = []\n",
    "    comment_list = []\n",
    "    submissions = api.search_submissions(\n",
    "                                subreddit = subreddit,\n",
    "                                filter = ['title','url','author'],\n",
    "                                limit = size\n",
    "                                )\n",
    "    for submission in submissions:\n",
    "        title= submission.title\n",
    "        url = submission.url\n",
    "        author = submission.author\n",
    "        \n",
    "        title_list.append(title)\n",
    "        url_list.append(url)\n",
    "        author_list.append(author)\n",
    "    return title_list, url_list, author_list"
   ]
  },
  {
   "cell_type": "code",
   "execution_count": null,
   "id": "65b8c899-e769-4399-a12c-589e34d48db8",
   "metadata": {
    "tags": []
   },
   "outputs": [],
   "source": []
  },
  {
   "cell_type": "code",
   "execution_count": null,
   "id": "70f69402-4bfd-4621-a99a-d3aa2e18af8d",
   "metadata": {},
   "outputs": [],
   "source": []
  }
 ],
 "metadata": {
  "kernelspec": {
   "display_name": "Python 3",
   "language": "python",
   "name": "python3"
  },
  "language_info": {
   "codemirror_mode": {
    "name": "ipython",
    "version": 3
   },
   "file_extension": ".py",
   "mimetype": "text/x-python",
   "name": "python",
   "nbconvert_exporter": "python",
   "pygments_lexer": "ipython3",
   "version": "3.8.5"
  }
 },
 "nbformat": 4,
 "nbformat_minor": 5
}
