{
 "cells": [
  {
   "cell_type": "code",
   "execution_count": 152,
   "id": "82886afb-b014-4d23-bd0e-b1f2facaf405",
   "metadata": {},
   "outputs": [],
   "source": [
    "import pandas as pd\n",
    "import numpy as np\n",
    "import matplotlib.pyplot as plt\n",
    "\n",
    "data = pd.read_csv('Reddit-Titles.csv')\n",
    "data_mentions_tickers = data['mention_tickers']\n",
    "data_mentions_amounts = data['Amount']\n",
    "data_mentions_positive_sentiments = data['psentiment']\n",
    "data_mentions_negative_sentiments = data['nsentiment']\n"
   ]
  },
  {
   "cell_type": "code",
   "execution_count": 153,
   "id": "09ce5851-8d8b-4351-9165-5548533b7378",
   "metadata": {},
   "outputs": [],
   "source": [
    "\n",
    "def generate_labels(bars,ax):\n",
    "    for bar in bars:\n",
    "        height = bar.get_height()\n",
    "        ax.annotate('{}'.format(height),\n",
    "                    xy=(bar.get_x() + bar.get_width() / 2, height),\n",
    "                    xytext=(0, 3),\n",
    "                    textcoords=\"offset points\")\n",
    "        \n",
    "def mentions_and_sentiments_barGraph(mentions, amounts, psentiments, nsentiments):\n",
    "    nmentions = mentions[0:10]\n",
    "    namounts = amounts[0:10]\n",
    "    psentiments = psentiments[0:10]\n",
    "    nsentiments = nsentiments[0:10]\n",
    "    x = np.arange(10)\n",
    "    \n",
    "    fig, ax = plt.subplots()\n",
    "    positive_mentions = ax.bar(x - 0.1, psentiments, 0.25, label ='Positive', color = 'green')\n",
    "    negative_mentions = ax.bar(x + 0.1, nsentiments, 0.25, label ='Negative', color = 'red')\n",
    "    total_mentions = ax.bar(x, namounts, 0.15, label =' Total', color = 'black')\n",
    "    ax.set_xlabel('Stock Ticker')\n",
    "    ax.set_ylabel('Number of mentions')\n",
    "    ax.set_title('Comparison of Positive and Negative Mentions in stock tickers')\n",
    "    ax.set_xticks(x)\n",
    "    ax.set_xticklabels(nmentions)\n",
    "    ax.legend()\n",
    "    \n",
    "    generate_labels(total_mentions,ax)\n",
    "    plt.show()"
   ]
  },
  {
   "cell_type": "code",
   "execution_count": 154,
   "id": "a4306581-ebeb-42df-991e-b1b24922a068",
   "metadata": {},
   "outputs": [],
   "source": [
    "def piechart_mentions(mentions, amounts):\n",
    "    nmentions = mentions[0:10]\n",
    "    nmentions = nmentions.reset_index(drop = True)\n",
    "    namounts = amounts[0:10]\n",
    "    namounts = namounts.reset_index(drop = True)\n",
    "    \n",
    "    fig2, ax2 = plt.subplots()\n",
    "    ax2.pie(namounts, labels= nmentions, startangle = 90, autopct='%1.1f%%')\n",
    "    ax2.axis('equal')\n",
    "    plt.show()\n",
    "    \n",
    "def donutchart_mentions(mentions, amounts):\n",
    "    nmentions = mentions[0:10]\n",
    "    nmentions = nmentions.reset_index(drop = True)\n",
    "    namounts = amounts[0:10]\n",
    "    namounts = namounts.reset_index(drop = True)\n",
    "\n",
    "    fig2, ax2 = plt.subplots()\n",
    "    ax2.pie(namounts, labels= nmentions, startangle = 90,autopct='%1.1f%%')\n",
    "    \n",
    "    centre_circle = plt.Circle((0,0),0.90,fc='white')\n",
    "    fig2.gca().add_artist(centre_circle)\n",
    "    \n",
    "    ax2.axis('equal')\n",
    "    plt.show()"
   ]
  },
  {
   "cell_type": "code",
   "execution_count": 155,
   "id": "a0300380-3a46-43a8-9664-411031413804",
   "metadata": {},
   "outputs": [
    {
     "data": {
      "image/png": "[encoded data removed]",
      "text/plain": [
       "<Figure size 432x288 with 1 Axes>"
      ]
     },
     "metadata": {
      "needs_background": "light"
     },
     "output_type": "display_data"
    }
   ],
   "source": [
    "mentions_and_sentiments_barGraph(data_mentions_tickers, data_mentions_amounts,data_mentions_positive_sentiments,data_mentions_negative_sentiments)\n"
   ]
  },
  {
   "cell_type": "code",
   "execution_count": null,
   "id": "0f3159ca-a44d-4dc4-bcc3-97e8ba70d6f5",
   "metadata": {},
   "outputs": [],
   "source": []
  },
  {
   "cell_type": "code",
   "execution_count": null,
   "id": "25760f23-8165-4c27-84f5-feab29360106",
   "metadata": {},
   "outputs": [],
   "source": []
  }
 ],
 "metadata": {
  "kernelspec": {
   "display_name": "Python 3",
   "language": "python",
   "name": "python3"
  },
  "language_info": {
   "codemirror_mode": {
    "name": "ipython",
    "version": 3
   },
   "file_extension": ".py",
   "mimetype": "text/x-python",
   "name": "python",
   "nbconvert_exporter": "python",
   "pygments_lexer": "ipython3",
   "version": "3.8.5"
  }
 },
 "nbformat": 4,
 "nbformat_minor": 5
}
