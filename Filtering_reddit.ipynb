{
 "cells": [
  {
   "cell_type": "code",
   "execution_count": 3,
   "id": "82886afb-b014-4d23-bd0e-b1f2facaf405",
   "metadata": {},
   "outputs": [
    {
     "ename": "SyntaxError",
     "evalue": "invalid syntax (<ipython-input-3-38b6d0948889>, line 2)",
     "output_type": "error",
     "traceback": [
      "\u001b[1;36m  File \u001b[1;32m\"<ipython-input-3-38b6d0948889>\"\u001b[1;36m, line \u001b[1;32m2\u001b[0m\n\u001b[1;33m    from 'Downloads/AI algorithm for predicting STOCK prices/' import Web_Scrapper_Reddit\u001b[0m\n\u001b[1;37m         ^\u001b[0m\n\u001b[1;31mSyntaxError\u001b[0m\u001b[1;31m:\u001b[0m invalid syntax\n"
     ]
    }
   ],
   "source": [
    "import csv\n",
    "import Web_Scrapper_Reddit as web\n",
    "\n",
    "## Create the CSV file with UTF-8 Encoding\n",
    "file = csv.writer(open('Reddit-Titles.csv', 'w',encoding='UTF-8'))\n",
    "file.writerow(['Title'])\n",
    "\n",
    "titles, urls, authors = Get_Submissions_Any(5, 'wallstreetbets')\n"
   ]
  },
  {
   "cell_type": "code",
   "execution_count": null,
   "id": "a4306581-ebeb-42df-991e-b1b24922a068",
   "metadata": {},
   "outputs": [],
   "source": []
  }
 ],
 "metadata": {
  "kernelspec": {
   "display_name": "Python 3",
   "language": "python",
   "name": "python3"
  },
  "language_info": {
   "codemirror_mode": {
    "name": "ipython",
    "version": 3
   },
   "file_extension": ".py",
   "mimetype": "text/x-python",
   "name": "python",
   "nbconvert_exporter": "python",
   "pygments_lexer": "ipython3",
   "version": "3.8.5"
  }
 },
 "nbformat": 4,
 "nbformat_minor": 5
}
