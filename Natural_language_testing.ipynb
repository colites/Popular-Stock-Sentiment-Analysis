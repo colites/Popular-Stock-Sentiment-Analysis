{
 "cells": [
  {
   "cell_type": "code",
   "execution_count": 57,
   "id": "656af333-2782-4a11-adbe-ccb860966516",
   "metadata": {},
   "outputs": [],
   "source": [
    "import numpy as np\n",
    "import matplotlib.pyplot as plt\n",
    "import pandas as pd\n",
    "import nltk.classify.util, nltk.metrics\n",
    "from nltk.classify import NaiveBayesClassifier\n",
    "from nltk.corpus import movie_reviews, stopwords\n"
   ]
  },
  {
   "cell_type": "code",
   "execution_count": 95,
   "id": "6aee6774-7616-4821-a539-b0ab41eb00db",
   "metadata": {},
   "outputs": [
    {
     "name": "stdout",
     "output_type": "stream",
     "text": [
      "accuracy: 0.78\n"
     ]
    },
    {
     "data": {
      "text/plain": [
       "['neg',\n",
       " 'neg',\n",
       " 'neg',\n",
       " 'neg',\n",
       " 'pos',\n",
       " 'pos',\n",
       " 'pos',\n",
       " 'pos',\n",
       " 'neg',\n",
       " 'pos',\n",
       " 'pos',\n",
       " 'pos',\n",
       " 'pos',\n",
       " 'pos',\n",
       " 'pos',\n",
       " 'pos',\n",
       " 'pos',\n",
       " 'neg',\n",
       " 'neg',\n",
       " 'neg',\n",
       " 'pos',\n",
       " 'pos',\n",
       " 'neg',\n",
       " 'pos',\n",
       " 'pos',\n",
       " 'pos',\n",
       " 'neg',\n",
       " 'neg',\n",
       " 'neg',\n",
       " 'pos',\n",
       " 'pos',\n",
       " 'pos',\n",
       " 'pos',\n",
       " 'pos']"
      ]
     },
     "execution_count": 95,
     "metadata": {},
     "output_type": "execute_result"
    }
   ],
   "source": [
    "\n",
    "###NLTK classifiers work with featstructs. These can be as simple as dictionaries mapping\n",
    "### feature names to a value. We do this with a default value of true for each word\n",
    "def bag_of_words(words):\n",
    "    return dict([(word, True) for word in words])\n",
    "\n",
    "#### Open the csv and read the data currently written on the file\n",
    "data = pd.read_csv('Reddit-Titles.csv')\n",
    "data_sentences = data['Full_sentence_train']\n",
    "data_tickers = data['mention_tickers']\n",
    "data_train = data['train']\n",
    "\n",
    "#### create the test_set for the classifier\n",
    "ndata_sentences = data_sentences[0:34]\n",
    "ndata_train= data_train[0:34]\n",
    "test_feats = []\n",
    "train_extra = []\n",
    "for i in range(len(ndata_sentences)):\n",
    "    words = ndata_sentences[i].split() \n",
    "    train_extra.append((bag_of_words(words),ndata_train[i]))\n",
    "    test_feats.append(bag_of_words(words))\n",
    "\n",
    "#### trains a naivebaiyes classifier with the nltk corpus movie reviews data set that consists of\n",
    "#### positive and negative sentiment evaluations. The classifier will be able to do the same for other sets.\n",
    "def NaiveBaiyesClassifier():\n",
    "    negativeIds = movie_reviews.fileids('neg')\n",
    "    positiveIds = movie_reviews.fileids('pos')\n",
    "\n",
    "    negfeats = [(bag_of_words(movie_reviews.words(fileids=[f])), 'neg') for f in negativeIds]\n",
    "    posfeats = [(bag_of_words(movie_reviews.words(fileids=[f])), 'pos') for f in positiveIds]\n",
    "    \n",
    "    negcutoff = int(len(negfeats)*(3/4))\n",
    "    poscutoff = int(len(posfeats)*(3/4))\n",
    "    \n",
    "    trainfeats = negfeats[:negcutoff] + posfeats[:poscutoff] + train_extra\n",
    "    test =  negfeats[negcutoff:] + posfeats[poscutoff:]\n",
    "    classifier = NaiveBayesClassifier.train(trainfeats)\n",
    "    print('accuracy:', nltk.classify.util.accuracy(classifier, test))\n",
    "    \n",
    "    return classifier\n",
    "\n",
    "classifier = NaiveBaiyesClassifier()\n",
    "classifier.classify_many(test_feats)"
   ]
  },
  {
   "cell_type": "code",
   "execution_count": null,
   "id": "884d6227-0187-4058-8d66-5585bdec8b31",
   "metadata": {},
   "outputs": [],
   "source": []
  },
  {
   "cell_type": "code",
   "execution_count": null,
   "id": "077eebb9-b4b7-4898-b1f3-42c9ee66fc84",
   "metadata": {},
   "outputs": [],
   "source": []
  }
 ],
 "metadata": {
  "kernelspec": {
   "display_name": "Python 3",
   "language": "python",
   "name": "python3"
  },
  "language_info": {
   "codemirror_mode": {
    "name": "ipython",
    "version": 3
   },
   "file_extension": ".py",
   "mimetype": "text/x-python",
   "name": "python",
   "nbconvert_exporter": "python",
   "pygments_lexer": "ipython3",
   "version": "3.8.5"
  }
 },
 "nbformat": 4,
 "nbformat_minor": 5
}
